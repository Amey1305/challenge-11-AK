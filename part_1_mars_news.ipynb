{
 "cells": [
  {
   "attachments": {},
   "cell_type": "markdown",
   "metadata": {},
   "source": [
    "# Module 12 Challenge\n",
    "## Deliverable 1: Scrape Titles and Preview Text from Mars News"
   ]
  },
  {
   "cell_type": "code",
   "execution_count": 1,
   "metadata": {},
   "outputs": [],
   "source": [
    "# Import Splinter and BeautifulSoup\n",
    "from splinter import Browser\n",
    "from bs4 import BeautifulSoup"
   ]
  },
  {
   "cell_type": "code",
   "execution_count": 2,
   "metadata": {
    "scrolled": true
   },
   "outputs": [
    {
     "ename": "SessionNotCreatedException",
     "evalue": "Message: session not created: This version of ChromeDriver only supports Chrome version 114\nCurrent browser version is 116.0.5845.179 with binary path C:\\Program Files\\Google\\Chrome\\Application\\chrome.exe\nStacktrace:\nBacktrace:\n\tGetHandleVerifier [0x005DA813+48355]\n\t(No symbol) [0x0056C4B1]\n\t(No symbol) [0x00475358]\n\t(No symbol) [0x004961AC]\n\t(No symbol) [0x00491EF3]\n\t(No symbol) [0x00490579]\n\t(No symbol) [0x004C0C55]\n\t(No symbol) [0x004C093C]\n\t(No symbol) [0x004BA536]\n\t(No symbol) [0x004982DC]\n\t(No symbol) [0x004993DD]\n\tGetHandleVerifier [0x0083AABD+2539405]\n\tGetHandleVerifier [0x0087A78F+2800735]\n\tGetHandleVerifier [0x0087456C+2775612]\n\tGetHandleVerifier [0x006651E0+616112]\n\t(No symbol) [0x00575F8C]\n\t(No symbol) [0x00572328]\n\t(No symbol) [0x0057240B]\n\t(No symbol) [0x00564FF7]\n\tBaseThreadInitThunk [0x77017D59+25]\n\tRtlInitializeExceptionChain [0x77C0B79B+107]\n\tRtlClearBits [0x77C0B71F+191]\n",
     "output_type": "error",
     "traceback": [
      "\u001b[1;31m---------------------------------------------------------------------------\u001b[0m",
      "\u001b[1;31mSessionNotCreatedException\u001b[0m                Traceback (most recent call last)",
      "Cell \u001b[1;32mIn[2], line 1\u001b[0m\n\u001b[1;32m----> 1\u001b[0m browser \u001b[39m=\u001b[39m Browser(\u001b[39m'\u001b[39;49m\u001b[39mchrome\u001b[39;49m\u001b[39m'\u001b[39;49m)\n",
      "File \u001b[1;32mc:\\Users\\amey1\\OneDrive\\Documents\\Anaconda\\envs\\dev\\lib\\site-packages\\splinter\\browser.py:125\u001b[0m, in \u001b[0;36mBrowser\u001b[1;34m(driver_name, retry_count, *args, **kwargs)\u001b[0m\n\u001b[0;32m    122\u001b[0m \u001b[39mif\u001b[39;00m driver \u001b[39mis\u001b[39;00m \u001b[39mNone\u001b[39;00m:\n\u001b[0;32m    123\u001b[0m     \u001b[39mraise\u001b[39;00m DriverNotFoundError(\u001b[39mf\u001b[39m\u001b[39m'\u001b[39m\u001b[39mDriver for \u001b[39m\u001b[39m{\u001b[39;00mdriver_name\u001b[39m}\u001b[39;00m\u001b[39m was not found.\u001b[39m\u001b[39m'\u001b[39m)\n\u001b[1;32m--> 125\u001b[0m \u001b[39mreturn\u001b[39;00m get_driver(driver, retry_count\u001b[39m=\u001b[39mretry_count, \u001b[39m*\u001b[39margs, \u001b[39m*\u001b[39m\u001b[39m*\u001b[39mkwargs)\n",
      "File \u001b[1;32mc:\\Users\\amey1\\OneDrive\\Documents\\Anaconda\\envs\\dev\\lib\\site-packages\\splinter\\browser.py:97\u001b[0m, in \u001b[0;36mget_driver\u001b[1;34m(driver, retry_count, *args, **kwargs)\u001b[0m\n\u001b[0;32m     94\u001b[0m     \u001b[39mexcept\u001b[39;00m driver_exceptions \u001b[39mas\u001b[39;00m e:\n\u001b[0;32m     95\u001b[0m         err \u001b[39m=\u001b[39m e\n\u001b[1;32m---> 97\u001b[0m \u001b[39mraise\u001b[39;00m err\n",
      "File \u001b[1;32mc:\\Users\\amey1\\OneDrive\\Documents\\Anaconda\\envs\\dev\\lib\\site-packages\\splinter\\browser.py:93\u001b[0m, in \u001b[0;36mget_driver\u001b[1;34m(driver, retry_count, *args, **kwargs)\u001b[0m\n\u001b[0;32m     91\u001b[0m \u001b[39mfor\u001b[39;00m _ \u001b[39min\u001b[39;00m \u001b[39mrange\u001b[39m(retry_count):\n\u001b[0;32m     92\u001b[0m     \u001b[39mtry\u001b[39;00m:\n\u001b[1;32m---> 93\u001b[0m         \u001b[39mreturn\u001b[39;00m driver(\u001b[39m*\u001b[39margs, \u001b[39m*\u001b[39m\u001b[39m*\u001b[39mkwargs)\n\u001b[0;32m     94\u001b[0m     \u001b[39mexcept\u001b[39;00m driver_exceptions \u001b[39mas\u001b[39;00m e:\n\u001b[0;32m     95\u001b[0m         err \u001b[39m=\u001b[39m e\n",
      "File \u001b[1;32mc:\\Users\\amey1\\OneDrive\\Documents\\Anaconda\\envs\\dev\\lib\\site-packages\\splinter\\driver\\webdriver\\chrome.py:42\u001b[0m, in \u001b[0;36mWebDriver.__init__\u001b[1;34m(self, options, user_agent, wait_time, fullscreen, incognito, headless, **kwargs)\u001b[0m\n\u001b[0;32m     39\u001b[0m     options\u001b[39m.\u001b[39madd_argument(\u001b[39m\"\u001b[39m\u001b[39m--headless\u001b[39m\u001b[39m\"\u001b[39m)\n\u001b[0;32m     40\u001b[0m     options\u001b[39m.\u001b[39madd_argument(\u001b[39m\"\u001b[39m\u001b[39m--disable-gpu\u001b[39m\u001b[39m\"\u001b[39m)\n\u001b[1;32m---> 42\u001b[0m driver \u001b[39m=\u001b[39m Chrome(options\u001b[39m=\u001b[39moptions, \u001b[39m*\u001b[39m\u001b[39m*\u001b[39mkwargs)\n\u001b[0;32m     44\u001b[0m \u001b[39msuper\u001b[39m(WebDriver, \u001b[39mself\u001b[39m)\u001b[39m.\u001b[39m\u001b[39m__init__\u001b[39m(driver, wait_time)\n",
      "File \u001b[1;32mc:\\Users\\amey1\\OneDrive\\Documents\\Anaconda\\envs\\dev\\lib\\site-packages\\selenium\\webdriver\\chrome\\webdriver.py:70\u001b[0m, in \u001b[0;36mWebDriver.__init__\u001b[1;34m(self, executable_path, port, options, service_args, desired_capabilities, service_log_path, chrome_options, service, keep_alive)\u001b[0m\n\u001b[0;32m     67\u001b[0m \u001b[39mif\u001b[39;00m \u001b[39mnot\u001b[39;00m service:\n\u001b[0;32m     68\u001b[0m     service \u001b[39m=\u001b[39m Service(executable_path, port, service_args, service_log_path)\n\u001b[1;32m---> 70\u001b[0m \u001b[39msuper\u001b[39;49m(WebDriver, \u001b[39mself\u001b[39;49m)\u001b[39m.\u001b[39;49m\u001b[39m__init__\u001b[39;49m(DesiredCapabilities\u001b[39m.\u001b[39;49mCHROME[\u001b[39m'\u001b[39;49m\u001b[39mbrowserName\u001b[39;49m\u001b[39m'\u001b[39;49m], \u001b[39m\"\u001b[39;49m\u001b[39mgoog\u001b[39;49m\u001b[39m\"\u001b[39;49m,\n\u001b[0;32m     71\u001b[0m                                 port, options,\n\u001b[0;32m     72\u001b[0m                                 service_args, desired_capabilities,\n\u001b[0;32m     73\u001b[0m                                 service_log_path, service, keep_alive)\n",
      "File \u001b[1;32mc:\\Users\\amey1\\OneDrive\\Documents\\Anaconda\\envs\\dev\\lib\\site-packages\\selenium\\webdriver\\chromium\\webdriver.py:92\u001b[0m, in \u001b[0;36mChromiumDriver.__init__\u001b[1;34m(self, browser_name, vendor_prefix, port, options, service_args, desired_capabilities, service_log_path, service, keep_alive)\u001b[0m\n\u001b[0;32m     89\u001b[0m \u001b[39mself\u001b[39m\u001b[39m.\u001b[39mservice\u001b[39m.\u001b[39mstart()\n\u001b[0;32m     91\u001b[0m \u001b[39mtry\u001b[39;00m:\n\u001b[1;32m---> 92\u001b[0m     RemoteWebDriver\u001b[39m.\u001b[39;49m\u001b[39m__init__\u001b[39;49m(\n\u001b[0;32m     93\u001b[0m         \u001b[39mself\u001b[39;49m,\n\u001b[0;32m     94\u001b[0m         command_executor\u001b[39m=\u001b[39;49mChromiumRemoteConnection(\n\u001b[0;32m     95\u001b[0m             remote_server_addr\u001b[39m=\u001b[39;49m\u001b[39mself\u001b[39;49m\u001b[39m.\u001b[39;49mservice\u001b[39m.\u001b[39;49mservice_url,\n\u001b[0;32m     96\u001b[0m             browser_name\u001b[39m=\u001b[39;49mbrowser_name, vendor_prefix\u001b[39m=\u001b[39;49mvendor_prefix,\n\u001b[0;32m     97\u001b[0m             keep_alive\u001b[39m=\u001b[39;49mkeep_alive, ignore_proxy\u001b[39m=\u001b[39;49m_ignore_proxy),\n\u001b[0;32m     98\u001b[0m         options\u001b[39m=\u001b[39;49moptions)\n\u001b[0;32m     99\u001b[0m \u001b[39mexcept\u001b[39;00m \u001b[39mException\u001b[39;00m:\n\u001b[0;32m    100\u001b[0m     \u001b[39mself\u001b[39m\u001b[39m.\u001b[39mquit()\n",
      "File \u001b[1;32mc:\\Users\\amey1\\OneDrive\\Documents\\Anaconda\\envs\\dev\\lib\\site-packages\\selenium\\webdriver\\remote\\webdriver.py:275\u001b[0m, in \u001b[0;36mWebDriver.__init__\u001b[1;34m(self, command_executor, desired_capabilities, browser_profile, proxy, keep_alive, file_detector, options)\u001b[0m\n\u001b[0;32m    273\u001b[0m \u001b[39mself\u001b[39m\u001b[39m.\u001b[39m_authenticator_id \u001b[39m=\u001b[39m \u001b[39mNone\u001b[39;00m\n\u001b[0;32m    274\u001b[0m \u001b[39mself\u001b[39m\u001b[39m.\u001b[39mstart_client()\n\u001b[1;32m--> 275\u001b[0m \u001b[39mself\u001b[39;49m\u001b[39m.\u001b[39;49mstart_session(capabilities, browser_profile)\n",
      "File \u001b[1;32mc:\\Users\\amey1\\OneDrive\\Documents\\Anaconda\\envs\\dev\\lib\\site-packages\\selenium\\webdriver\\remote\\webdriver.py:365\u001b[0m, in \u001b[0;36mWebDriver.start_session\u001b[1;34m(self, capabilities, browser_profile)\u001b[0m\n\u001b[0;32m    363\u001b[0m w3c_caps \u001b[39m=\u001b[39m _make_w3c_caps(capabilities)\n\u001b[0;32m    364\u001b[0m parameters \u001b[39m=\u001b[39m {\u001b[39m\"\u001b[39m\u001b[39mcapabilities\u001b[39m\u001b[39m\"\u001b[39m: w3c_caps}\n\u001b[1;32m--> 365\u001b[0m response \u001b[39m=\u001b[39m \u001b[39mself\u001b[39;49m\u001b[39m.\u001b[39;49mexecute(Command\u001b[39m.\u001b[39;49mNEW_SESSION, parameters)\n\u001b[0;32m    366\u001b[0m \u001b[39mif\u001b[39;00m \u001b[39m'\u001b[39m\u001b[39msessionId\u001b[39m\u001b[39m'\u001b[39m \u001b[39mnot\u001b[39;00m \u001b[39min\u001b[39;00m response:\n\u001b[0;32m    367\u001b[0m     response \u001b[39m=\u001b[39m response[\u001b[39m'\u001b[39m\u001b[39mvalue\u001b[39m\u001b[39m'\u001b[39m]\n",
      "File \u001b[1;32mc:\\Users\\amey1\\OneDrive\\Documents\\Anaconda\\envs\\dev\\lib\\site-packages\\selenium\\webdriver\\remote\\webdriver.py:430\u001b[0m, in \u001b[0;36mWebDriver.execute\u001b[1;34m(self, driver_command, params)\u001b[0m\n\u001b[0;32m    428\u001b[0m response \u001b[39m=\u001b[39m \u001b[39mself\u001b[39m\u001b[39m.\u001b[39mcommand_executor\u001b[39m.\u001b[39mexecute(driver_command, params)\n\u001b[0;32m    429\u001b[0m \u001b[39mif\u001b[39;00m response:\n\u001b[1;32m--> 430\u001b[0m     \u001b[39mself\u001b[39;49m\u001b[39m.\u001b[39;49merror_handler\u001b[39m.\u001b[39;49mcheck_response(response)\n\u001b[0;32m    431\u001b[0m     response[\u001b[39m'\u001b[39m\u001b[39mvalue\u001b[39m\u001b[39m'\u001b[39m] \u001b[39m=\u001b[39m \u001b[39mself\u001b[39m\u001b[39m.\u001b[39m_unwrap_value(\n\u001b[0;32m    432\u001b[0m         response\u001b[39m.\u001b[39mget(\u001b[39m'\u001b[39m\u001b[39mvalue\u001b[39m\u001b[39m'\u001b[39m, \u001b[39mNone\u001b[39;00m))\n\u001b[0;32m    433\u001b[0m     \u001b[39mreturn\u001b[39;00m response\n",
      "File \u001b[1;32mc:\\Users\\amey1\\OneDrive\\Documents\\Anaconda\\envs\\dev\\lib\\site-packages\\selenium\\webdriver\\remote\\errorhandler.py:247\u001b[0m, in \u001b[0;36mErrorHandler.check_response\u001b[1;34m(self, response)\u001b[0m\n\u001b[0;32m    245\u001b[0m         alert_text \u001b[39m=\u001b[39m value[\u001b[39m'\u001b[39m\u001b[39malert\u001b[39m\u001b[39m'\u001b[39m]\u001b[39m.\u001b[39mget(\u001b[39m'\u001b[39m\u001b[39mtext\u001b[39m\u001b[39m'\u001b[39m)\n\u001b[0;32m    246\u001b[0m     \u001b[39mraise\u001b[39;00m exception_class(message, screen, stacktrace, alert_text)  \u001b[39m# type: ignore[call-arg]  # mypy is not smart enough here\u001b[39;00m\n\u001b[1;32m--> 247\u001b[0m \u001b[39mraise\u001b[39;00m exception_class(message, screen, stacktrace)\n",
      "\u001b[1;31mSessionNotCreatedException\u001b[0m: Message: session not created: This version of ChromeDriver only supports Chrome version 114\nCurrent browser version is 116.0.5845.179 with binary path C:\\Program Files\\Google\\Chrome\\Application\\chrome.exe\nStacktrace:\nBacktrace:\n\tGetHandleVerifier [0x005DA813+48355]\n\t(No symbol) [0x0056C4B1]\n\t(No symbol) [0x00475358]\n\t(No symbol) [0x004961AC]\n\t(No symbol) [0x00491EF3]\n\t(No symbol) [0x00490579]\n\t(No symbol) [0x004C0C55]\n\t(No symbol) [0x004C093C]\n\t(No symbol) [0x004BA536]\n\t(No symbol) [0x004982DC]\n\t(No symbol) [0x004993DD]\n\tGetHandleVerifier [0x0083AABD+2539405]\n\tGetHandleVerifier [0x0087A78F+2800735]\n\tGetHandleVerifier [0x0087456C+2775612]\n\tGetHandleVerifier [0x006651E0+616112]\n\t(No symbol) [0x00575F8C]\n\t(No symbol) [0x00572328]\n\t(No symbol) [0x0057240B]\n\t(No symbol) [0x00564FF7]\n\tBaseThreadInitThunk [0x77017D59+25]\n\tRtlInitializeExceptionChain [0x77C0B79B+107]\n\tRtlClearBits [0x77C0B71F+191]\n"
     ]
    }
   ],
   "source": [
    "browser = Browser('chrome')"
   ]
  },
  {
   "attachments": {},
   "cell_type": "markdown",
   "metadata": {},
   "source": [
    "### Step 1: Visit the Website\n",
    "\n",
    "1. Use automated browsing to visit the [Mars news site](https://static.bc-edx.com/data/web/mars_news/index.html). Inspect the page to identify which elements to scrape.\n",
    "\n",
    "      > **Hint** To identify which elements to scrape, you might want to inspect the page by using Chrome DevTools."
   ]
  },
  {
   "cell_type": "code",
   "execution_count": 3,
   "metadata": {},
   "outputs": [
    {
     "ename": "NameError",
     "evalue": "name 'browser' is not defined",
     "output_type": "error",
     "traceback": [
      "\u001b[1;31m---------------------------------------------------------------------------\u001b[0m",
      "\u001b[1;31mNameError\u001b[0m                                 Traceback (most recent call last)",
      "Cell \u001b[1;32mIn[3], line 3\u001b[0m\n\u001b[0;32m      1\u001b[0m \u001b[39m# Visit the Mars news site\u001b[39;00m\n\u001b[0;32m      2\u001b[0m url \u001b[39m=\u001b[39m \u001b[39m'\u001b[39m\u001b[39mhttps://static.bc-edx.com/data/web/mars_news/index.html\u001b[39m\u001b[39m'\u001b[39m\n\u001b[1;32m----> 3\u001b[0m browser\u001b[39m.\u001b[39mvisit(url)\n",
      "\u001b[1;31mNameError\u001b[0m: name 'browser' is not defined"
     ]
    }
   ],
   "source": [
    "# Visit the Mars news site\n",
    "url = 'https://static.bc-edx.com/data/web/mars_news/index.html'\n",
    "browser.visit(url)"
   ]
  },
  {
   "attachments": {},
   "cell_type": "markdown",
   "metadata": {},
   "source": [
    "### Step 2: Scrape the Website\n",
    "\n",
    "Create a Beautiful Soup object and use it to extract text elements from the website."
   ]
  },
  {
   "cell_type": "code",
   "execution_count": 4,
   "metadata": {},
   "outputs": [
    {
     "ename": "NameError",
     "evalue": "name 'browser' is not defined",
     "output_type": "error",
     "traceback": [
      "\u001b[1;31m---------------------------------------------------------------------------\u001b[0m",
      "\u001b[1;31mNameError\u001b[0m                                 Traceback (most recent call last)",
      "Cell \u001b[1;32mIn[4], line 2\u001b[0m\n\u001b[0;32m      1\u001b[0m \u001b[39m# Create a Beautiful Soup object\u001b[39;00m\n\u001b[1;32m----> 2\u001b[0m html \u001b[39m=\u001b[39m browser\u001b[39m.\u001b[39mhtml\n\u001b[0;32m      3\u001b[0m soup \u001b[39m=\u001b[39m BeautifulSoup(html)\n",
      "\u001b[1;31mNameError\u001b[0m: name 'browser' is not defined"
     ]
    }
   ],
   "source": [
    "# Create a Beautiful Soup object\n",
    "html = browser.html\n",
    "soup = BeautifulSoup(html)"
   ]
  },
  {
   "cell_type": "code",
   "execution_count": 5,
   "metadata": {},
   "outputs": [
    {
     "ename": "NameError",
     "evalue": "name 'soup' is not defined",
     "output_type": "error",
     "traceback": [
      "\u001b[1;31m---------------------------------------------------------------------------\u001b[0m",
      "\u001b[1;31mNameError\u001b[0m                                 Traceback (most recent call last)",
      "Cell \u001b[1;32mIn[5], line 2\u001b[0m\n\u001b[0;32m      1\u001b[0m \u001b[39m# Extract all the text elements\u001b[39;00m\n\u001b[1;32m----> 2\u001b[0m news_items \u001b[39m=\u001b[39m soup\u001b[39m.\u001b[39mselect(\u001b[39m\"\u001b[39m\u001b[39mdiv.list_text\u001b[39m\u001b[39m\"\u001b[39m)\n\u001b[0;32m      3\u001b[0m \u001b[39mprint\u001b[39m(\u001b[39mlen\u001b[39m(news_items))\n",
      "\u001b[1;31mNameError\u001b[0m: name 'soup' is not defined"
     ]
    }
   ],
   "source": [
    "# Extract all the text elements\n",
    "news_items = soup.select(\"div.list_text\")\n",
    "print(len(news_items))"
   ]
  },
  {
   "attachments": {},
   "cell_type": "markdown",
   "metadata": {},
   "source": [
    "### Step 3: Store the Results\n",
    "\n",
    "Extract the titles and preview text of the news articles that you scraped. Store the scraping results in Python data structures as follows:\n",
    "\n",
    "* Store each title-and-preview pair in a Python dictionary. And, give each dictionary two keys: `title` and `preview`. An example is the following:\n",
    "\n",
    "  ```python\n",
    "  {'title': \"NASA's MAVEN Observes Martian Light Show Caused by Major Solar Storm\", \n",
    "   'preview': \"For the first time in its eight years orbiting Mars, NASA’s MAVEN mission witnessed two different types of ultraviolet aurorae simultaneously, the result of solar storms that began on Aug. 27.\"\n",
    "  }\n",
    "  ```\n",
    "\n",
    "* Store all the dictionaries in a Python list.\n",
    "\n",
    "* Print the list in your notebook."
   ]
  },
  {
   "cell_type": "code",
   "execution_count": 6,
   "metadata": {},
   "outputs": [],
   "source": [
    "# Create an empty list to store the dictionaries\n",
    "news_dict_list = []"
   ]
  },
  {
   "cell_type": "code",
   "execution_count": 6,
   "metadata": {},
   "outputs": [
    {
     "ename": "IndentationError",
     "evalue": "unexpected indent (665966517.py, line 6)",
     "output_type": "error",
     "traceback": [
      "\u001b[1;36m  Cell \u001b[1;32mIn[6], line 6\u001b[1;36m\u001b[0m\n\u001b[1;33m    preview_text = element.select_one(\"div.article_teaser_body\").text\u001b[0m\n\u001b[1;37m    ^\u001b[0m\n\u001b[1;31mIndentationError\u001b[0m\u001b[1;31m:\u001b[0m unexpected indent\n"
     ]
    }
   ],
   "source": [
    "# Loop through the text elements\n",
    "# Extract the title and preview text from the elements\n",
    "# Store each title and preview pair in a dictionary\n",
    "# Add the dictionary to the list\n",
    "title = element.select_one(\"div.content_title\").text\n",
    "    preview_text = element.select_one(\"div.article_teaser_body\").text\n",
    "    single_article = {\"title\": title,\n",
    "                      \"preview\": preview_text}\n",
    "    news_dict_list.append(single_article)"
   ]
  },
  {
   "cell_type": "code",
   "execution_count": 7,
   "metadata": {},
   "outputs": [
    {
     "ename": "NameError",
     "evalue": "name 'news_dict_list' is not defined",
     "output_type": "error",
     "traceback": [
      "\u001b[1;31m---------------------------------------------------------------------------\u001b[0m",
      "\u001b[1;31mNameError\u001b[0m                                 Traceback (most recent call last)",
      "Cell \u001b[1;32mIn[7], line 2\u001b[0m\n\u001b[0;32m      1\u001b[0m \u001b[39m# Print the list to confirm success\u001b[39;00m\n\u001b[1;32m----> 2\u001b[0m news_dict_list\n",
      "\u001b[1;31mNameError\u001b[0m: name 'news_dict_list' is not defined"
     ]
    }
   ],
   "source": [
    "# Print the list to confirm success\n",
    "news_dict_list"
   ]
  },
  {
   "cell_type": "code",
   "execution_count": 8,
   "metadata": {},
   "outputs": [
    {
     "ename": "NameError",
     "evalue": "name 'browser' is not defined",
     "output_type": "error",
     "traceback": [
      "\u001b[1;31m---------------------------------------------------------------------------\u001b[0m",
      "\u001b[1;31mNameError\u001b[0m                                 Traceback (most recent call last)",
      "Cell \u001b[1;32mIn[8], line 1\u001b[0m\n\u001b[1;32m----> 1\u001b[0m browser\u001b[39m.\u001b[39mquit()\n",
      "\u001b[1;31mNameError\u001b[0m: name 'browser' is not defined"
     ]
    }
   ],
   "source": [
    "browser.quit()"
   ]
  },
  {
   "cell_type": "code",
   "execution_count": null,
   "metadata": {},
   "outputs": [],
   "source": []
  }
 ],
 "metadata": {
  "kernelspec": {
   "display_name": "Python 3 (ipykernel)",
   "language": "python",
   "name": "python3"
  },
  "language_info": {
   "codemirror_mode": {
    "name": "ipython",
    "version": 3
   },
   "file_extension": ".py",
   "mimetype": "text/x-python",
   "name": "python",
   "nbconvert_exporter": "python",
   "pygments_lexer": "ipython3",
   "version": "3.10.11"
  },
  "vscode": {
   "interpreter": {
    "hash": "31f2aee4e71d21fbe5cf8b01ff0e069b9275f58929596ceb00d14d90e3e16cd6"
   }
  }
 },
 "nbformat": 4,
 "nbformat_minor": 4
}
